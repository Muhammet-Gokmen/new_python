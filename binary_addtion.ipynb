{
  "nbformat": 4,
  "nbformat_minor": 0,
  "metadata": {
    "colab": {
      "name": "Untitled31.ipynb",
      "provenance": [],
      "authorship_tag": "ABX9TyM/fBhC0NPThzHSnd3m4gAm",
      "include_colab_link": true
    },
    "kernelspec": {
      "name": "python3",
      "display_name": "Python 3"
    },
    "language_info": {
      "name": "python"
    }
  },
  "cells": [
    {
      "cell_type": "markdown",
      "metadata": {
        "id": "view-in-github",
        "colab_type": "text"
      },
      "source": [
        "<a href=\"https://colab.research.google.com/github/Muhammet-Gokmen/new_python/blob/main/binary_addtion.ipynb\" target=\"_parent\"><img src=\"https://colab.research.google.com/assets/colab-badge.svg\" alt=\"Open In Colab\"/></a>"
      ]
    },
    {
      "cell_type": "code",
      "source": [
        "#Implement a function that adds two numbers together and returns their sum in binary. The conversion can be done before, or after the addition.\n",
        "\n",
        "#The binary number returned should be a string.\n",
        "\n",
        "#Examples:(Input1, Input2 --> Output (explanation)))\n",
        "\n",
        "#1, 1 --> \"10\" (1 + 1 = 2 in decimal or 10 in binary)\n",
        "#5, 9 --> \"1110\" (5 + 9 = 14 in decimal or 1110 in binary)"
      ],
      "metadata": {
        "id": "eCtDRlTqwW6Y"
      },
      "execution_count": 8,
      "outputs": []
    },
    {
      "cell_type": "code",
      "execution_count": 3,
      "metadata": {
        "colab": {
          "base_uri": "https://localhost:8080/",
          "height": 35
        },
        "id": "04k241pNu9GI",
        "outputId": "8edb26b6-7fd3-4d5b-ae3f-c614da44b7e8"
      },
      "outputs": [
        {
          "output_type": "execute_result",
          "data": {
            "text/plain": [
              "'10001'"
            ],
            "application/vnd.google.colaboratory.intrinsic+json": {
              "type": "string"
            }
          },
          "metadata": {},
          "execution_count": 3
        }
      ],
      "source": [
        "def add_binary(a,b):\n",
        "    return bin(a+b)[2:]\n",
        "\n",
        "add_binary(8,9)    \n",
        "\n"
      ]
    },
    {
      "cell_type": "code",
      "source": [
        "def add_binaryy(a,b):\n",
        "    return '{0:b}'.format(a + b)\n",
        "\n",
        "add_binaryy(8,9)    "
      ],
      "metadata": {
        "colab": {
          "base_uri": "https://localhost:8080/",
          "height": 35
        },
        "id": "DpIoQazzvnUY",
        "outputId": "e56664ea-8a3a-4cff-f03a-1d96e7ffee0b"
      },
      "execution_count": 5,
      "outputs": [
        {
          "output_type": "execute_result",
          "data": {
            "text/plain": [
              "'10001'"
            ],
            "application/vnd.google.colaboratory.intrinsic+json": {
              "type": "string"
            }
          },
          "metadata": {},
          "execution_count": 5
        }
      ]
    },
    {
      "cell_type": "code",
      "source": [
        "def add_binaryi(a,b):\n",
        "    c = a + b \n",
        "    return bin(c).replace('0b','')\n",
        "\n",
        "add_binaryi(8,9)    "
      ],
      "metadata": {
        "colab": {
          "base_uri": "https://localhost:8080/",
          "height": 35
        },
        "id": "4DASAe0Uw_Sn",
        "outputId": "f445e571-7c13-4742-d48f-fd1787b98464"
      },
      "execution_count": 10,
      "outputs": [
        {
          "output_type": "execute_result",
          "data": {
            "text/plain": [
              "'10001'"
            ],
            "application/vnd.google.colaboratory.intrinsic+json": {
              "type": "string"
            }
          },
          "metadata": {},
          "execution_count": 10
        }
      ]
    }
  ]
}